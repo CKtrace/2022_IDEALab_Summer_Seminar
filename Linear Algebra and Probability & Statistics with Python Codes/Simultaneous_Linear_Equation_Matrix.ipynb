{
 "cells": [
  {
   "cell_type": "code",
   "execution_count": 18,
   "id": "94e977be",
   "metadata": {},
   "outputs": [
    {
     "name": "stdout",
     "output_type": "stream",
     "text": [
      "[[0.]\n",
      " [0.]]\n"
     ]
    }
   ],
   "source": [
    "import numpy as np\n",
    "\n",
    "#행렬을 활용해 연립일차방정식 풀기\n",
    "coef = np.array([[1,2], [2, 3]])\n",
    "cons = np.array([[0], [0]])\n",
    "\n",
    "value = np.linalg.solve(coef, cons)\n",
    "print(value)"
   ]
  },
  {
   "cell_type": "code",
   "execution_count": 17,
   "id": "d6ee4c14",
   "metadata": {},
   "outputs": [
    {
     "name": "stdout",
     "output_type": "stream",
     "text": [
      "[0. 0.]\n"
     ]
    }
   ],
   "source": [
    "# 역행렬을 활용해 연립일차방정식 풀기\n",
    "value2 = np.linalg.inv(coef)\n",
    "value2_dot = np.dot(value2, cons)\n",
    "print(value2_dot)"
   ]
  }
 ],
 "metadata": {
  "kernelspec": {
   "display_name": "2022SummerKernel",
   "language": "python",
   "name": "summer_seminar_2022"
  },
  "language_info": {
   "codemirror_mode": {
    "name": "ipython",
    "version": 3
   },
   "file_extension": ".py",
   "mimetype": "text/x-python",
   "name": "python",
   "nbconvert_exporter": "python",
   "pygments_lexer": "ipython3",
   "version": "3.9.12"
  }
 },
 "nbformat": 4,
 "nbformat_minor": 5
}
