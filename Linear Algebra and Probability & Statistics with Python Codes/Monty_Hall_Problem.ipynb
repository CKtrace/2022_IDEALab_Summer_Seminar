{
 "cells": [
  {
   "cell_type": "code",
   "execution_count": 8,
   "id": "ee8aec14",
   "metadata": {},
   "outputs": [
    {
     "name": "stdout",
     "output_type": "stream",
     "text": [
      "성공한 횟수 : 66664367번, 실패한 횟수 : 33335633번 => 최종적으로 차를 고를 확률 : 66.66437%입니다!\n"
     ]
    }
   ],
   "source": [
    "import numpy as np\n",
    "\n",
    "def monty_hall_process(num) :\n",
    "    \n",
    "    car_cnt = 0\n",
    "    goat_cnt = 0\n",
    "    \n",
    "    for a in range(num) :\n",
    "        \n",
    "        create_doors = [0, 0, 0]\n",
    "        \n",
    "        car_spot = np.random.randint(0,3)\n",
    "        \n",
    "        create_doors[car_spot] += 1\n",
    "        \n",
    "        first_choice = np.random.randint(0,3)\n",
    "        \n",
    "        if create_doors[first_choice] == 0 :\n",
    "            create_doors[first_choice] += -1\n",
    "        \n",
    "        else :\n",
    "            create_doors[first_choice] += 1\n",
    "            \n",
    "        create_doors.remove(0)\n",
    "        \n",
    "        if -1 in create_doors :\n",
    "            car_cnt += 1\n",
    "        \n",
    "        else : \n",
    "            goat_cnt += 1\n",
    "            \n",
    "    result = [car_cnt, goat_cnt, car_cnt/num]\n",
    "    \n",
    "    return result\n",
    "\n",
    "experiment_result = monty_hall_process(100000000)\n",
    "\n",
    "result_a = experiment_result[0]\n",
    "result_b = experiment_result[1]\n",
    "result_c = experiment_result[2]*100\n",
    "\n",
    "a = f'성공한 횟수 : {result_a}번, 실패한 횟수 : {result_b}번 => 최종적으로 차를 고를 확률 : {result_c :.5f}%입니다!'\n",
    "print(a)"
   ]
  },
  {
   "cell_type": "code",
   "execution_count": null,
   "id": "316dac10",
   "metadata": {},
   "outputs": [],
   "source": []
  }
 ],
 "metadata": {
  "kernelspec": {
   "display_name": "2022SummerKernel",
   "language": "python",
   "name": "summer_seminar_2022"
  },
  "language_info": {
   "codemirror_mode": {
    "name": "ipython",
    "version": 3
   },
   "file_extension": ".py",
   "mimetype": "text/x-python",
   "name": "python",
   "nbconvert_exporter": "python",
   "pygments_lexer": "ipython3",
   "version": "3.9.12"
  }
 },
 "nbformat": 4,
 "nbformat_minor": 5
}
