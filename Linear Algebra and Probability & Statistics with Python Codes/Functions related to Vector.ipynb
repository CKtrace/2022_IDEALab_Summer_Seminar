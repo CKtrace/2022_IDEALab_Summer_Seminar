{
 "cells": [
  {
   "cell_type": "code",
   "execution_count": 11,
   "id": "2f99ea8c",
   "metadata": {},
   "outputs": [
    {
     "ename": "IndentationError",
     "evalue": "expected an indented block (260260295.py, line 86)",
     "output_type": "error",
     "traceback": [
      "\u001b[1;36m  Input \u001b[1;32mIn [11]\u001b[1;36m\u001b[0m\n\u001b[1;33m    def squared_distance(v:Vector, w:Vector) -> float:\u001b[0m\n\u001b[1;37m                                                      ^\u001b[0m\n\u001b[1;31mIndentationError\u001b[0m\u001b[1;31m:\u001b[0m expected an indented block\n"
     ]
    }
   ],
   "source": [
    "from typing import List\n",
    "import math\n",
    "\n",
    "Vector = List[float]\n",
    " \n",
    "height_weight_age = [70, 170, 40]\n",
    "\n",
    "grades = [95, 80, 75, 62]\n",
    "\n",
    "def add(v:Vector, w: Vector) -> Vector:\n",
    "    \"\"\"\n",
    "        크기가 같은 두 벡터를 더한다.\n",
    "    \"\"\"\n",
    "    assert len(v) == len(w), \"vectors must be the same length\"\n",
    "    \n",
    "    return [v_i + w_i for v_i, w_i in zip(v,w)]\n",
    "\n",
    "assert add([1, 2, 3], [4, 5, 6])  == [5, 7, 9]\n",
    "\n",
    "def subtract(v: Vector, w: Vector) -> Vector:\n",
    "    \"\"\"\n",
    "        크기가 같은 두 벡터를 뺀다.\n",
    "    \"\"\"\n",
    "    assert len(v) == len(w), \"vectors must be the same length\"\n",
    "    \n",
    "    return [v_i - w_i for v_i, w_i in zip(v, w)]\n",
    "\n",
    "assert subtract ([5, 7, 9], [4, 5, 6]) == [1, 2, 3]\n",
    "\n",
    "def vector_sum(vectors:List[Vector]) -> Vector :\n",
    "    \"\"\"\n",
    "        크기가 모두 같은 여러 벡터를 더한다.\n",
    "    \"\"\"\n",
    "    assert vectors, \"no vectors provided\"\n",
    "    \n",
    "    num_elements = len(vectors[0])\n",
    "    assert all(len(v) == num_elements for v in vectors), \"different sizes!\"\n",
    "    \n",
    "    return [sum(vector[i] for vector in vectors) for i in range(num_elements)]\n",
    "\n",
    "assert vector_sum([[1, 2], [3, 4], [5, 6], [7, 8]]) == [16, 20]\n",
    "\n",
    "def scalar_multiply(c: float, v: Vector) -> Vector :\n",
    "    \"\"\"\n",
    "        스칼라 곱\n",
    "    \"\"\"\n",
    "    return [c* v_i for v_i in v]\n",
    "\n",
    "assert scalar_multiply(2, [1, 2, 3]) == [2, 4, 6]\n",
    "\n",
    "def vector_mean(vectors: List[Vector]) -> Vector:\n",
    "    \"\"\"\n",
    "        각 성분별 평균을 계산\n",
    "    \"\"\"\n",
    "    n = len(vectors)\n",
    "    return scalar_multiply(1/n, vector_sum(vectors))\n",
    "\n",
    "assert vector_mean([[1, 2], [3, 4], [5, 6]]) == [3, 4]\n",
    "\n",
    "def dot_product(v: Vector, w: Vector) -> float:\n",
    "    \"\"\"\n",
    "        v_1 * w_1 + ... + v_n * w_n  \n",
    "    \"\"\"\n",
    "    assert len(v) == len(w), \"vectors must be same length\"\n",
    "    \n",
    "    return sum(v_i * w_i for v_i, w_i in zip(v, w))\n",
    "\n",
    "assert dot_product([1, 2, 3], [4, 5, 6]) == 32\n",
    "\n",
    "def sum_of_squares(v:Vector) -> float:\n",
    "    \"\"\"\n",
    "        v_1 * v_1 + ... + v_n * v_n\n",
    "    \"\"\"\n",
    "    return dot_product(v, v)\n",
    "\n",
    "assert sum_of_squares([1, 2, 3]) == 14\n",
    "\n",
    "def magnitude(v:Vector) -> float :\n",
    "    \"\"\"\n",
    "        벡터 v의 크기 반환\n",
    "    \"\"\"\n",
    "    return math.sqrt(sum_of_squares(v))\n",
    "\n",
    "assert magnitude([3, 4]) == 5\n",
    "\n",
    "def squared_distance(v:Vector, w:Vector) -> float:\n",
    "    \"\"\"\n",
    "        벡터 v와 w 간의 거리 계산\n",
    "    \"\"\"\n",
    "    return magnitude(subtract(v, w))"
   ]
  },
  {
   "cell_type": "code",
   "execution_count": 12,
   "id": "9be76a5b",
   "metadata": {},
   "outputs": [
    {
     "ename": "IndentationError",
     "evalue": "expected an indented block (3139923648.py, line 8)",
     "output_type": "error",
     "traceback": [
      "\u001b[1;36m  Input \u001b[1;32mIn [12]\u001b[1;36m\u001b[0m\n\u001b[1;33m    def shape(A:Matrix) -> Tuple[int, int]:\u001b[0m\n\u001b[1;37m                                           ^\u001b[0m\n\u001b[1;31mIndentationError\u001b[0m\u001b[1;31m:\u001b[0m expected an indented block\n"
     ]
    }
   ],
   "source": [
    "Matrix = List[List[float]]\n",
    "\n",
    "A = [[1, 2, 3], [4, 5, 6]]\n",
    "B = [[1, 2], [3, 4], [5, 6]]\n",
    "\n",
    "from typing import Tuple\n",
    "\n",
    "def shape(A:Matrix) -> Tuple[int, int]:\n",
    "    \"\"\"\n",
    "        (열의 개수, 행의 개수)\n",
    "    \"\"\""
   ]
  },
  {
   "cell_type": "code",
   "execution_count": null,
   "id": "b1a088cf",
   "metadata": {},
   "outputs": [],
   "source": []
  }
 ],
 "metadata": {
  "kernelspec": {
   "display_name": "2022SummerKernel",
   "language": "python",
   "name": "summer_seminar_2022"
  },
  "language_info": {
   "codemirror_mode": {
    "name": "ipython",
    "version": 3
   },
   "file_extension": ".py",
   "mimetype": "text/x-python",
   "name": "python",
   "nbconvert_exporter": "python",
   "pygments_lexer": "ipython3",
   "version": "3.9.12"
  }
 },
 "nbformat": 4,
 "nbformat_minor": 5
}
