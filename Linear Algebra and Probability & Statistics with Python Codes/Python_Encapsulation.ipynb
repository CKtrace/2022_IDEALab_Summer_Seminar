{
 "cells": [
  {
   "cell_type": "code",
   "execution_count": 2,
   "id": "c0416a57",
   "metadata": {},
   "outputs": [
    {
     "name": "stdout",
     "output_type": "stream",
     "text": [
      "캡슐1\n",
      "Help on class Chan_Encapsulation in module __main__:\n",
      "\n",
      "class Chan_Encapsulation(builtins.object)\n",
      " |  Chan_Encapsulation(capsule1, capsule2, capsule3)\n",
      " |  \n",
      " |  Methods defined here:\n",
      " |  \n",
      " |  __init__(self, capsule1, capsule2, capsule3)\n",
      " |      Initialize self.  See help(type(self)) for accurate signature.\n",
      " |  \n",
      " |  open_capsule1(self)\n",
      " |  \n",
      " |  ----------------------------------------------------------------------\n",
      " |  Data descriptors defined here:\n",
      " |  \n",
      " |  __dict__\n",
      " |      dictionary for instance variables (if defined)\n",
      " |  \n",
      " |  __weakref__\n",
      " |      list of weak references to the object (if defined)\n",
      "\n",
      "None\n"
     ]
    },
    {
     "ename": "AttributeError",
     "evalue": "'Chan_Encapsulation' object has no attribute 'open_capsule2'",
     "output_type": "error",
     "traceback": [
      "\u001b[1;31m---------------------------------------------------------------------------\u001b[0m",
      "\u001b[1;31mAttributeError\u001b[0m                            Traceback (most recent call last)",
      "Input \u001b[1;32mIn [2]\u001b[0m, in \u001b[0;36m<cell line: 17>\u001b[1;34m()\u001b[0m\n\u001b[0;32m     15\u001b[0m \u001b[38;5;28mprint\u001b[39m(real_capsule\u001b[38;5;241m.\u001b[39mopen_capsule1())\n\u001b[0;32m     16\u001b[0m \u001b[38;5;28mprint\u001b[39m(help(Chan_Encapsulation))\n\u001b[1;32m---> 17\u001b[0m \u001b[38;5;28mprint\u001b[39m(\u001b[43mreal_capsule\u001b[49m\u001b[38;5;241;43m.\u001b[39;49m\u001b[43mopen_capsule2\u001b[49m())\n",
      "\u001b[1;31mAttributeError\u001b[0m: 'Chan_Encapsulation' object has no attribute 'open_capsule2'"
     ]
    }
   ],
   "source": [
    "class Chan_Encapsulation :\n",
    "    def __init__(self, capsule1, capsule2, capsule3) :\n",
    "        self.__capsule1 = capsule1\n",
    "        self.__capsule2 = capsule2\n",
    "        self.__capsule3 = capsule3\n",
    "        \n",
    "    def open_capsule1(self) :\n",
    "        return self.__capsule1\n",
    "    \n",
    "    def __open_capsule2(self) :\n",
    "        return self.__capsule2\n",
    "    \n",
    "    \n",
    "real_capsule = Chan_Encapsulation('캡슐1', '캡슐2', '캡슐3')\n",
    "print(real_capsule.open_capsule1())\n",
    "print(help(Chan_Encapsulation))\n",
    "print(real_capsule.__open_capsule2())"
   ]
  }
 ],
 "metadata": {
  "kernelspec": {
   "display_name": "2022SummerKernel",
   "language": "python",
   "name": "summer_seminar_2022"
  },
  "language_info": {
   "codemirror_mode": {
    "name": "ipython",
    "version": 3
   },
   "file_extension": ".py",
   "mimetype": "text/x-python",
   "name": "python",
   "nbconvert_exporter": "python",
   "pygments_lexer": "ipython3",
   "version": "3.9.12"
  }
 },
 "nbformat": 4,
 "nbformat_minor": 5
}
