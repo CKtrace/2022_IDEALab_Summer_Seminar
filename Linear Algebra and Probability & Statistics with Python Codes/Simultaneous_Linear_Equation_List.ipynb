{
 "cells": [
  {
   "cell_type": "code",
   "execution_count": 10,
   "id": "0cec7b93",
   "metadata": {},
   "outputs": [
    {
     "name": "stdout",
     "output_type": "stream",
     "text": [
      "0.0 0.0\n"
     ]
    }
   ],
   "source": [
    "# List를 활용해 연립일차방정식 풀기\n",
    "\n",
    "from fractions import Fraction\n",
    "\n",
    "def calc_value(p, q):\n",
    "    if(a[0] / b[0]) == (a[1] / b[1]) == (a[2] / b[2]) :\n",
    "        print('무수히 많은 해')\n",
    "        return None, None\n",
    "        \n",
    "    elif (a[0] / b[0]) == (a[1] / b[1]) == (a[2] / b[2]):\n",
    "        print('해가 존재하지 않음')\n",
    "        return None, None\n",
    "    \n",
    "    else:\n",
    "        if a[0] == 0:\n",
    "            y = a[2] / a[1]\n",
    "            x = (b[2] - b[1] * y) / b[0] \n",
    "        \n",
    "        elif b[0] == 0:\n",
    "            y = b[2] / b[1]\n",
    "            x = (a[2] - a[1] * y) / a[0] \n",
    "        \n",
    "        elif a[1] == 0:\n",
    "            x = a[2] / a[0]\n",
    "            y = Fraction(b[2] - b[0] * x, b[1])\n",
    "        \n",
    "        elif b[1] == 0:\n",
    "            x = b[2] / b[0]\n",
    "            y = a[2] - a[0] * x/a[1]\n",
    "            \n",
    "        else :\n",
    "            a[0] = b[0]\n",
    "            a[1] = a[1] * (b[0] / a[0])\n",
    "            a[2] = a[2] * (b[0] / a[0])\n",
    "            \n",
    "            y = (a[2] - b[2])/(a[1] - b[1])\n",
    "            x = (b[2] - (b[1] * y)) / b[0]\n",
    "        \n",
    "        return x, y\n",
    "\n",
    "\n",
    "a = [3, 4, 0]\n",
    "b = [1, 3, 0]\n",
    "\n",
    "x, y = calc_value(a, b)\n",
    "print(x, y)"
   ]
  }
 ],
 "metadata": {
  "kernelspec": {
   "display_name": "2022SummerKernel",
   "language": "python",
   "name": "summer_seminar_2022"
  },
  "language_info": {
   "codemirror_mode": {
    "name": "ipython",
    "version": 3
   },
   "file_extension": ".py",
   "mimetype": "text/x-python",
   "name": "python",
   "nbconvert_exporter": "python",
   "pygments_lexer": "ipython3",
   "version": "3.9.12"
  }
 },
 "nbformat": 4,
 "nbformat_minor": 5
}
