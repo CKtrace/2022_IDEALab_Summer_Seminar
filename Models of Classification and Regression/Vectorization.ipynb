{
 "cells": [
  {
   "cell_type": "code",
   "execution_count": null,
   "id": "c65bf629",
   "metadata": {},
   "outputs": [],
   "source": [
    "w = np.array([1.0, 2.5, 3.7])\n",
    "b = 4\n",
    "x = np.array([10, 30, 50])"
   ]
  },
  {
   "cell_type": "code",
   "execution_count": null,
   "id": "77d19f50",
   "metadata": {},
   "outputs": [],
   "source": [
    "f = w[0]*x[0] + w[1]*x[1] + w[2]*x[2] + b"
   ]
  },
  {
   "cell_type": "code",
   "execution_count": null,
   "id": "2346282e",
   "metadata": {},
   "outputs": [],
   "source": [
    "f = 0\n",
    "for j in range(n):\n",
    "    f = f + w[j]*x[j]\n",
    "f = f + b"
   ]
  },
  {
   "cell_type": "code",
   "execution_count": null,
   "id": "c6488646",
   "metadata": {},
   "outputs": [],
   "source": [
    "imp\n",
    "f = np.dot(w, x) + b"
   ]
  }
 ],
 "metadata": {
  "kernelspec": {
   "display_name": "2022SummerKernel",
   "language": "python",
   "name": "summer_seminar_2022"
  },
  "language_info": {
   "codemirror_mode": {
    "name": "ipython",
    "version": 3
   },
   "file_extension": ".py",
   "mimetype": "text/x-python",
   "name": "python",
   "nbconvert_exporter": "python",
   "pygments_lexer": "ipython3",
   "version": "3.9.12"
  }
 },
 "nbformat": 4,
 "nbformat_minor": 5
}
