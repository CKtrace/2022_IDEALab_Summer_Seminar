{
 "cells": [
  {
   "cell_type": "code",
   "execution_count": 11,
   "id": "c65bf629",
   "metadata": {},
   "outputs": [],
   "source": [
    "import numpy as np\n",
    "w = np.array([1.0, 2.5, 3.7])\n",
    "b = 4\n",
    "x = np.array([10, 30, 50])"
   ]
  },
  {
   "cell_type": "code",
   "execution_count": 12,
   "id": "77d19f50",
   "metadata": {},
   "outputs": [
    {
     "name": "stdout",
     "output_type": "stream",
     "text": [
      "274.0\n"
     ]
    }
   ],
   "source": [
    "f = w[0]*x[0] + w[1]*x[1] + w[2]*x[2] + b\n",
    "print(f)"
   ]
  },
  {
   "cell_type": "code",
   "execution_count": 13,
   "id": "2346282e",
   "metadata": {},
   "outputs": [
    {
     "name": "stdout",
     "output_type": "stream",
     "text": [
      "274.0\n"
     ]
    }
   ],
   "source": [
    "f = 0\n",
    "for j in range(len(w)):\n",
    "    f = f + w[j]*x[j]\n",
    "f = f + b\n",
    "print(f)"
   ]
  },
  {
   "cell_type": "code",
   "execution_count": 14,
   "id": "c6488646",
   "metadata": {},
   "outputs": [
    {
     "name": "stdout",
     "output_type": "stream",
     "text": [
      "274.0\n"
     ]
    }
   ],
   "source": [
    "f = np.dot(w, x) + b\n",
    "print(f)"
   ]
  }
 ],
 "metadata": {
  "kernelspec": {
   "display_name": "2022SummerKernel",
   "language": "python",
   "name": "summer_seminar_2022"
  },
  "language_info": {
   "codemirror_mode": {
    "name": "ipython",
    "version": 3
   },
   "file_extension": ".py",
   "mimetype": "text/x-python",
   "name": "python",
   "nbconvert_exporter": "python",
   "pygments_lexer": "ipython3",
   "version": "3.9.12"
  }
 },
 "nbformat": 4,
 "nbformat_minor": 5
}
