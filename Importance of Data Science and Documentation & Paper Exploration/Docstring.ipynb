{
 "cells": [
  {
   "cell_type": "code",
   "execution_count": null,
   "id": "a5385540",
   "metadata": {},
   "outputs": [],
   "source": [
    "class ChanClass:\n",
    "\"\"\"\n",
    "클래스의 문서화 내용 입력란\n",
    "\"\"\"\n",
    "    \n",
    "    def chanfunction(parameter)\n",
    "        \"\"\"\n",
    "        함수의 문서화 내용 입력란\n",
    "        \"\"\""
   ]
  }
 ],
 "metadata": {
  "kernelspec": {
   "display_name": "2022SummerKernel",
   "language": "python",
   "name": "summer_seminar_2022"
  },
  "language_info": {
   "codemirror_mode": {
    "name": "ipython",
    "version": 3
   },
   "file_extension": ".py",
   "mimetype": "text/x-python",
   "name": "python",
   "nbconvert_exporter": "python",
   "pygments_lexer": "ipython3",
   "version": "3.9.12"
  }
 },
 "nbformat": 4,
 "nbformat_minor": 5
}
