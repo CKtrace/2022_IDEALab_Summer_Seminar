{
 "cells": [
  {
   "cell_type": "code",
   "execution_count": null,
   "id": "4ad6c984",
   "metadata": {},
   "outputs": [],
   "source": [
    "import os\n",
    "import psutil\n",
    "import random\n",
    "import time\n",
    "\n",
    "\n",
    "input_data = ['KIM', 'CHAN', 'KI', '1ST', 'SUMMER', 'SEMINAR']\n",
    "input_data2 = ['2022', '07', '05', '2001', '04']\n",
    "\n",
    "process = psutil.Process(os.getpid())\n",
    "mem_check_before = process.memory_info().rss / 1024 / 1024\n",
    "\n",
    "def people_generator(num_people):\n",
    "    for i in range(num_people):\n",
    "        person = {\n",
    "            'id': i,\n",
    "            'name': random.choice(input_data),\n",
    "            'date': random.choice(input_data2)\n",
    "        }\n",
    "        result.append(person)\n",
    "    yield \n",
    "\n",
    "t1 = time.time()\n",
    "people = people_generator(100000000)\n",
    "t2 = time.time()\n",
    "mem_check_after = process.memory_info().rss / 1024 / 1024\n",
    "total_time = t2 - t1\n",
    "\n",
    "print('Memory usage before startup : {} MB'.format(mem_check_before))\n",
    "print('Memory usage agter process shutdown : {} MB'.format(mem_check_after))\n",
    "print('총 소요된 시간 : {:.7f} 초'.format(total_time))"
   ]
  }
 ],
 "metadata": {
  "kernelspec": {
   "display_name": "2022SummerKernel",
   "language": "python",
   "name": "summer_seminar_2022"
  },
  "language_info": {
   "codemirror_mode": {
    "name": "ipython",
    "version": 3
   },
   "file_extension": ".py",
   "mimetype": "text/x-python",
   "name": "python",
   "nbconvert_exporter": "python",
   "pygments_lexer": "ipython3",
   "version": "3.9.12"
  }
 },
 "nbformat": 4,
 "nbformat_minor": 5
}
