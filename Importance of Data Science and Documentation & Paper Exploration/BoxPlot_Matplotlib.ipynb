{
 "cells": [
  {
   "cell_type": "code",
   "execution_count": 7,
   "id": "7dabbf38",
   "metadata": {},
   "outputs": [
    {
     "data": {
      "image/png": "[encoded data removed]",
      "text/plain": [
       "<Figure size 432x288 with 1 Axes>"
      ]
     },
     "metadata": {
      "needs_background": "light"
     },
     "output_type": "display_data"
    }
   ],
   "source": [
    "import matplotlib.pyplot as plt\n",
    "import seaborn as sns\n",
    "penguin_data = sns.load_dataset('penguins')\n",
    "\n",
    "category = penguin_data.species.unique()\n",
    "\n",
    "species_a = penguin_data[penguin_data['species']==category[0]]\n",
    "species_b = penguin_data[penguin_data['species']==category[1]]\n",
    "species_c = penguin_data[penguin_data['species']==category[2]]\n",
    "\n",
    "species_a_dropna = species_a.dropna()\n",
    "species_b_dropna = species_b.dropna()\n",
    "species_c_dropna = species_c.dropna()\n",
    "\n",
    "fig, ax = plt.subplots()\n",
    "define_boxplot = ax.boxplot([species_a_dropna[species_a_dropna.columns[2]],\n",
    "                            species_b_dropna[species_b_dropna.columns[2]],\n",
    "                            species_c_dropna[species_c_dropna.columns[2]]], patch_artist = True)\n",
    "plt.xticks([1,2,3], [category[0], category[1], category[2]])\n",
    "\n",
    "colors = ['blue', 'orange', 'green']\n",
    "\n",
    "for patch, color in zip(define_boxplot['boxes'],colors):\n",
    "    patch.set_facecolor(color)\n",
    "    \n",
    "plt.show()"
   ]
  }
 ],
 "metadata": {
  "kernelspec": {
   "display_name": "2022SummerKernel",
   "language": "python",
   "name": "summer_seminar_2022"
  },
  "language_info": {
   "codemirror_mode": {
    "name": "ipython",
    "version": 3
   },
   "file_extension": ".py",
   "mimetype": "text/x-python",
   "name": "python",
   "nbconvert_exporter": "python",
   "pygments_lexer": "ipython3",
   "version": "3.9.12"
  }
 },
 "nbformat": 4,
 "nbformat_minor": 5
}
