{
 "cells": [
  {
   "cell_type": "code",
   "execution_count": 4,
   "id": "33f0bf0d",
   "metadata": {},
   "outputs": [
    {
     "name": "stdout",
     "output_type": "stream",
     "text": [
      "Memory usage before startup : 35.3046875 MB\n",
      "Memory usage agter process shutdown : 24495.28515625 MB\n",
      "총 소요된 시간 : 113.9781694 초\n"
     ]
    }
   ],
   "source": [
    "import os\n",
    "import psutil\n",
    "import random\n",
    "import time\n",
    "\n",
    "\n",
    "input_data = ['KIM', 'CHAN', 'KI', '1ST', 'SUMMER', 'SEMINAR']\n",
    "input_data2 = ['2022', '07', '05', '2001', '04']\n",
    "\n",
    "process = psutil.Process(os.getpid())\n",
    "mem_check_before = process.memory_info().rss / 1024 / 1024\n",
    "\n",
    "def people_list(num_people):\n",
    "    result = []\n",
    "    for i in range(num_people):\n",
    "        person = {\n",
    "            'id': i,\n",
    "            'name': random.choice(input_data),\n",
    "            'date': random.choice(input_data2)\n",
    "        }\n",
    "        result.append(person)\n",
    "    return result\n",
    "\n",
    "t1 = time.time()\n",
    "people = people_list(100000000)\n",
    "t2 = time.time()\n",
    "mem_check_after = process.memory_info().rss / 1024 / 1024\n",
    "total_time = t2 - t1\n",
    "\n",
    "print('Memory usage before startup : {} MB'.format(mem_check_before))\n",
    "print('Memory usage agter process shutdown : {} MB'.format(mem_check_after))\n",
    "print('총 소요된 시간 : {:.7f} 초'.format(total_time))"
   ]
  }
 ],
 "metadata": {
  "kernelspec": {
   "display_name": "2022SummerKernel",
   "language": "python",
   "name": "summer_seminar_2022"
  },
  "language_info": {
   "codemirror_mode": {
    "name": "ipython",
    "version": 3
   },
   "file_extension": ".py",
   "mimetype": "text/x-python",
   "name": "python",
   "nbconvert_exporter": "python",
   "pygments_lexer": "ipython3",
   "version": "3.9.12"
  }
 },
 "nbformat": 4,
 "nbformat_minor": 5
}
