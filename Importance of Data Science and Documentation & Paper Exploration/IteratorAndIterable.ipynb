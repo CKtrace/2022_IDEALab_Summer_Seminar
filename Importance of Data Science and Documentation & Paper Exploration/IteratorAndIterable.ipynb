{
 "cells": [
  {
   "cell_type": "code",
   "execution_count": 2,
   "id": "bffe3330",
   "metadata": {},
   "outputs": [
    {
     "name": "stdout",
     "output_type": "stream",
     "text": [
      "This is iterable\n",
      "2022\n",
      "7\n",
      "5\n",
      "2022\n",
      "7\n",
      "5\n",
      "This is iterator\n",
      "2022\n",
      "7\n",
      "5\n"
     ]
    }
   ],
   "source": [
    "chaniterableList = [2022, 7, 5]\n",
    "\n",
    "print(\"This is iterable\")\n",
    "\n",
    "for item in chaniterableList :\n",
    "    print(item)\n",
    "    \n",
    "for item in chaniterableList :\n",
    "    print(item)\n",
    "    \n",
    "chaniterator = iter(chaniterableList)\n",
    "\n",
    "print(\"This is iterator\")\n",
    "\n",
    "for item in chaniterator:\n",
    "    print(item)\n",
    "    \n",
    "for item in chaniterator:\n",
    "    print(item)"
   ]
  }
 ],
 "metadata": {
  "kernelspec": {
   "display_name": "2022SummerKernel",
   "language": "python",
   "name": "summer_seminar_2022"
  },
  "language_info": {
   "codemirror_mode": {
    "name": "ipython",
    "version": 3
   },
   "file_extension": ".py",
   "mimetype": "text/x-python",
   "name": "python",
   "nbconvert_exporter": "python",
   "pygments_lexer": "ipython3",
   "version": "3.9.12"
  }
 },
 "nbformat": 4,
 "nbformat_minor": 5
}
