{
 "cells": [
  {
   "cell_type": "code",
   "execution_count": 2,
   "id": "25c93d30",
   "metadata": {},
   "outputs": [
    {
     "name": "stdout",
     "output_type": "stream",
     "text": [
      "Sample Overloading two parameter :  4\n",
      "Sample Overloading three parameter :  8\n"
     ]
    }
   ],
   "source": [
    "from multipledispatch import dispatch\n",
    "\n",
    "class OverloadKim():\n",
    "    @dispatch(int, int)\n",
    "    def chan(self, a, b):\n",
    "        return a * b\n",
    "    \n",
    "    @dispatch(int, int, int)\n",
    "    def chan(self, a, b, c):\n",
    "        return a * b * c\n",
    "    \n",
    "kiki = OverloadKim()\n",
    "\n",
    "print(\"Sample Overloading two parameter : \", kiki.chan(2,2))\n",
    "\n",
    "print(\"Sample Overloading three parameter : \", kiki.chan(2,2,2))"
   ]
  }
 ],
 "metadata": {
  "kernelspec": {
   "display_name": "2022SummerKernel",
   "language": "python",
   "name": "summer_seminar_2022"
  },
  "language_info": {
   "codemirror_mode": {
    "name": "ipython",
    "version": 3
   },
   "file_extension": ".py",
   "mimetype": "text/x-python",
   "name": "python",
   "nbconvert_exporter": "python",
   "pygments_lexer": "ipython3",
   "version": "3.9.12"
  }
 },
 "nbformat": 4,
 "nbformat_minor": 5
}
