{
 "cells": [
  {
   "cell_type": "code",
   "execution_count": 1,
   "id": "bef8ed9f",
   "metadata": {},
   "outputs": [
    {
     "name": "stdout",
     "output_type": "stream",
     "text": [
      "Before Overriding :  20220705\n",
      "After Overriding :  40886265510\n"
     ]
    }
   ],
   "source": [
    "class ParentKim():\n",
    "    def __init__(self):\n",
    "        self.value = 20220705\n",
    "        \n",
    "    def changed_value(self):\n",
    "        return self.value\n",
    "\n",
    "class ChildKim(ParentKim):\n",
    "     def changed_value(self):\n",
    "            return self.value * 2022\n",
    "        \n",
    "\n",
    "testkim1 = ParentKim()\n",
    "print(\"Before Overriding : \", testkim1.changed_value())\n",
    "\n",
    "testkim2 = ChildKim()\n",
    "print(\"After Overriding : \", testkim2.changed_value())"
   ]
  }
 ],
 "metadata": {
  "kernelspec": {
   "display_name": "2022SummerKernel",
   "language": "python",
   "name": "summer_seminar_2022"
  },
  "language_info": {
   "codemirror_mode": {
    "name": "ipython",
    "version": 3
   },
   "file_extension": ".py",
   "mimetype": "text/x-python",
   "name": "python",
   "nbconvert_exporter": "python",
   "pygments_lexer": "ipython3",
   "version": "3.9.12"
  }
 },
 "nbformat": 4,
 "nbformat_minor": 5
}
